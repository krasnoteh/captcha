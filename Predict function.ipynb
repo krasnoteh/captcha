{
 "cells": [
  {
   "cell_type": "code",
   "execution_count": 3,
   "id": "0898f728",
   "metadata": {},
   "outputs": [],
   "source": [
    "import tensorflow as tf\n",
    "from tensorflow import keras"
   ]
  },
  {
   "cell_type": "code",
   "execution_count": 7,
   "id": "233aa7ab",
   "metadata": {},
   "outputs": [
    {
     "name": "stdout",
     "output_type": "stream",
     "text": [
      "WARNING:tensorflow:No training configuration found in the save file, so the model was *not* compiled. Compile it manually.\n"
     ]
    }
   ],
   "source": [
    "network = tf.keras.models.load_model('cnn_model.h5')"
   ]
  },
  {
   "cell_type": "code",
   "execution_count": 23,
   "id": "8d8ea271",
   "metadata": {},
   "outputs": [],
   "source": [
    "def predict(image): \n",
    "    \"\"\"\n",
    "    input data:\n",
    "        Тензор картинок, любой размер, 3 канала (RGB), с белыми полосами, яркость пикселей [0 ... 255]\n",
    "    output data:\n",
    "        вероятность, того, что картинка собрана правильно.\n",
    "        Например:\n",
    "            Правильно собранная картинка - 0.9999\n",
    "            Буквально один свап фрагментов - 0.3\n",
    "            Полность рассыпавшаяся - 0.0001\n",
    "        (Это в идеале, на деле проверяем все картинки, правильный ответ - с наименьшим ответом)\n",
    "    \n",
    "    Используются тензоры в целях оптимизации (можно обработать много картинок за раз)\n",
    "    \"\"\"\n",
    "    img_tensor = tf.cast(image, tf.float32) / 255\n",
    "    img_tensor = tf.image.resize(img_tensor, (64, 64), method='area')\n",
    "    \n",
    "    res = 1 - network(img_tensor)\n",
    "    \n",
    "    return res"
   ]
  },
  {
   "cell_type": "code",
   "execution_count": 24,
   "id": "58e9ebc1",
   "metadata": {},
   "outputs": [
    {
     "name": "stdout",
     "output_type": "stream",
     "text": [
      "0.5209769\n",
      "0.9918225\n"
     ]
    }
   ],
   "source": [
    "#Пример использования\n",
    "import cv2\n",
    "img = cv2.imread(\"dog_not_ok.png\")\n",
    "img = tf.expand_dims(img, axis = 0) #если нужно обработать одну картинку, преобразуем ее в тензор (1, sizeX, sizeY, 3)\n",
    "res = predict(img)\n",
    "print(res.numpy()[0][0])\n",
    "\n",
    "#и для правильной\n",
    "img = cv2.imread(\"dog_ok.png\")\n",
    "img = tf.expand_dims(img, axis = 0)\n",
    "res = predict(img)\n",
    "print(res.numpy()[0][0])"
   ]
  },
  {
   "cell_type": "code",
   "execution_count": null,
   "id": "6d778e25",
   "metadata": {},
   "outputs": [],
   "source": []
  }
 ],
 "metadata": {
  "kernelspec": {
   "display_name": "gpu",
   "language": "python",
   "name": "myenv"
  },
  "language_info": {
   "codemirror_mode": {
    "name": "ipython",
    "version": 3
   },
   "file_extension": ".py",
   "mimetype": "text/x-python",
   "name": "python",
   "nbconvert_exporter": "python",
   "pygments_lexer": "ipython3",
   "version": "3.9.16"
  }
 },
 "nbformat": 4,
 "nbformat_minor": 5
}
